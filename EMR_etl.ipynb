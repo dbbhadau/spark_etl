{
 "cells": [
  {
   "cell_type": "code",
   "execution_count": 1,
   "metadata": {
    "editable": true
   },
   "outputs": [
    {
     "data": {
      "application/vnd.jupyter.widget-view+json": {
       "model_id": "28e14d255f104ed6b446301f42a6b9f0",
       "version_major": 2,
       "version_minor": 0
      },
      "text/plain": [
       "VBox()"
      ]
     },
     "metadata": {},
     "output_type": "display_data"
    },
    {
     "name": "stdout",
     "output_type": "stream",
     "text": [
      "Starting Spark application\n"
     ]
    },
    {
     "data": {
      "text/html": [
       "<table>\n",
       "<tr><th>ID</th><th>YARN Application ID</th><th>Kind</th><th>State</th><th>Spark UI</th><th>Driver log</th><th>Current session?</th></tr><tr><td>8</td><td>application_1609569452306_0009</td><td>pyspark</td><td>idle</td><td><a target=\"_blank\" href=\"http://ip-172-31-28-232.us-east-2.compute.internal:20888/proxy/application_1609569452306_0009/\">Link</a></td><td><a target=\"_blank\" href=\"http://ip-172-31-31-91.us-east-2.compute.internal:8042/node/containerlogs/container_1609569452306_0009_01_000001/livy\">Link</a></td><td>✔</td></tr></table>"
      ],
      "text/plain": [
       "<IPython.core.display.HTML object>"
      ]
     },
     "metadata": {},
     "output_type": "display_data"
    },
    {
     "data": {
      "application/vnd.jupyter.widget-view+json": {
       "model_id": "",
       "version_major": 2,
       "version_minor": 0
      },
      "text/plain": [
       "FloatProgress(value=0.0, bar_style='info', description='Progress:', layout=Layout(height='25px', width='50%'),…"
      ]
     },
     "metadata": {},
     "output_type": "display_data"
    },
    {
     "name": "stdout",
     "output_type": "stream",
     "text": [
      "SparkSession available as 'spark'.\n"
     ]
    },
    {
     "data": {
      "application/vnd.jupyter.widget-view+json": {
       "model_id": "",
       "version_major": 2,
       "version_minor": 0
      },
      "text/plain": [
       "FloatProgress(value=0.0, bar_style='info', description='Progress:', layout=Layout(height='25px', width='50%'),…"
      ]
     },
     "metadata": {},
     "output_type": "display_data"
    }
   ],
   "source": [
    "import configparser\n",
    "from datetime import datetime\n",
    "import os\n",
    "\n",
    "from pyspark.sql import SparkSession\n",
    "from pyspark.sql.types import DateType\n",
    "from pyspark.sql.types import TimestampType\n",
    "\n",
    "from pyspark.sql.functions import *"
   ]
  },
  {
   "cell_type": "code",
   "execution_count": 4,
   "metadata": {
    "editable": true
   },
   "outputs": [
    {
     "data": {
      "application/vnd.jupyter.widget-view+json": {
       "model_id": "822699f22ce44da0b00497aa93ff3e30",
       "version_major": 2,
       "version_minor": 0
      },
      "text/plain": [
       "VBox()"
      ]
     },
     "metadata": {},
     "output_type": "display_data"
    },
    {
     "data": {
      "application/vnd.jupyter.widget-view+json": {
       "model_id": "",
       "version_major": 2,
       "version_minor": 0
      },
      "text/plain": [
       "FloatProgress(value=0.0, bar_style='info', description='Progress:', layout=Layout(height='25px', width='50%'),…"
      ]
     },
     "metadata": {},
     "output_type": "display_data"
    }
   ],
   "source": [
    "spark = SparkSession \\\n",
    "        .builder \\\n",
    "        .config(\"spark.jars.packages\", \"org.apache.hadoop:hadoop-aws:2.7.0\") \\\n",
    "        .getOrCreate()\n",
    "\n"
   ]
  },
  {
   "cell_type": "code",
   "execution_count": 6,
   "metadata": {
    "editable": true
   },
   "outputs": [
    {
     "data": {
      "application/vnd.jupyter.widget-view+json": {
       "model_id": "89d35eb69a1a4ed68d783f6b979306fd",
       "version_major": 2,
       "version_minor": 0
      },
      "text/plain": [
       "VBox()"
      ]
     },
     "metadata": {},
     "output_type": "display_data"
    },
    {
     "data": {
      "application/vnd.jupyter.widget-view+json": {
       "model_id": "",
       "version_major": 2,
       "version_minor": 0
      },
      "text/plain": [
       "FloatProgress(value=0.0, bar_style='info', description='Progress:', layout=Layout(height='25px', width='50%'),…"
      ]
     },
     "metadata": {},
     "output_type": "display_data"
    },
    {
     "name": "stdout",
     "output_type": "stream",
     "text": [
      "File songs_table.parquet created\n",
      "File artists_table.parquet created"
     ]
    }
   ],
   "source": [
    "    # get filepath to song data file\n",
    "song_data = \"s3://ganpati-hanuman/song_data/*/*/*/*.json\"\n",
    "\n",
    "    # read song data file\n",
    "df = spark.read.json(song_data)\n",
    "    \n",
    "    # extract columns to create songs table\n",
    "songs_table = df.select('song_id', 'title', 'artist_id', 'year', 'duration').dropDuplicates(['song_id'])\n",
    "\n",
    "    # write songs table to parquet files partitioned by year and artist\n",
    "songs_table.write.mode('overwrite').partitionBy(\"year\", \"artist_id\").parquet(\"s3://ganpati-hanuman/output/songs_table.parquet\")\n",
    "print('File songs_table.parquet created')\n",
    "\n",
    "    # extract columns to create artists table\n",
    "artists_table = df.select('artist_id', 'artist_name', 'artist_location', 'artist_latitude', 'artist_longitude').dropDuplicates(['artist_id'])\n",
    "\n",
    "    # write artists table to parquet files\n",
    "artists_table.write.mode('overwrite').parquet(\"s3://ganpati-hanuman/output/artists_table.parquet\")\n",
    "print('File artists_table.parquet created')\n",
    "\n",
    "\n"
   ]
  },
  {
   "cell_type": "code",
   "execution_count": 8,
   "metadata": {
    "editable": true
   },
   "outputs": [
    {
     "data": {
      "application/vnd.jupyter.widget-view+json": {
       "model_id": "eafe11f2583744a4bf97f60b66e52562",
       "version_major": 2,
       "version_minor": 0
      },
      "text/plain": [
       "VBox()"
      ]
     },
     "metadata": {},
     "output_type": "display_data"
    },
    {
     "data": {
      "application/vnd.jupyter.widget-view+json": {
       "model_id": "",
       "version_major": 2,
       "version_minor": 0
      },
      "text/plain": [
       "FloatProgress(value=0.0, bar_style='info', description='Progress:', layout=Layout(height='25px', width='50%'),…"
      ]
     },
     "metadata": {},
     "output_type": "display_data"
    },
    {
     "name": "stderr",
     "output_type": "stream",
     "text": [
      "'java.lang.RuntimeException: java.lang.RuntimeException: Unable to instantiate org.apache.hadoop.hive.ql.metadata.SessionHiveMetaStoreClient;'\n",
      "Traceback (most recent call last):\n",
      "  File \"/usr/lib/spark/python/lib/pyspark.zip/pyspark/sql/session.py\", line 767, in sql\n",
      "    return DataFrame(self._jsparkSession.sql(sqlQuery), self._wrapped)\n",
      "  File \"/usr/lib/spark/python/lib/py4j-0.10.7-src.zip/py4j/java_gateway.py\", line 1257, in __call__\n",
      "    answer, self.gateway_client, self.target_id, self.name)\n",
      "  File \"/usr/lib/spark/python/lib/pyspark.zip/pyspark/sql/utils.py\", line 69, in deco\n",
      "    raise AnalysisException(s.split(': ', 1)[1], stackTrace)\n",
      "pyspark.sql.utils.AnalysisException: 'java.lang.RuntimeException: java.lang.RuntimeException: Unable to instantiate org.apache.hadoop.hive.ql.metadata.SessionHiveMetaStoreClient;'\n",
      "\n"
     ]
    }
   ],
   "source": [
    "# get filepath to log data file\n",
    "log_data = \"s3://ganpati-hanuman/log_data/*.json\"\n",
    "  \n",
    "\n",
    "    # read log data file\n",
    "df = spark.read.json(log_data)\n",
    "\n",
    "    # filter by actions for song plays\n",
    "df = df.filter(df.page == 'NextSong')\n",
    "\n",
    "    # extract columns for users table\n",
    "users_table = df.select(col('userId').alias('user_id'), col('firstName').alias('first_name'),\n",
    "                            col('lastName').alias('last_name'), 'gender', 'level')\\\n",
    "                            .dropDuplicates(['user_id', 'level'])\n",
    "\n",
    "    # write users table to parquet files\n",
    "users_table.write.mode('overwrite').parquet(\"s3://ganpati-hanuman/output/users_table.parquet\")\n",
    "print('File users_table.parquet created')\n",
    "\n",
    "    # create timestamp column from original timestamp column\n",
    "get_timestamp = udf(lambda x : datetime.fromtimestamp(x/1000.0).strftime('%Y-%m-%d %H:%M:%S'))\n",
    "df = df.withColumn('start_time', get_timestamp(df.ts)) \n",
    "    \n",
    "    # extract columns to create time table\n",
    "time_table = df.select(df.start_time.alias('start_time'), \\\n",
    "                hour(df.start_time).alias('hour'),\\\n",
    "                dayofmonth(df.start_time).alias('day'),\\\n",
    "                weekofyear(df.start_time).alias('week'),\\\n",
    "                month(df.start_time).alias('month'),\\\n",
    "                year(df.start_time).alias('year'),\n",
    "                dayofweek(df.start_time).alias('weekday')).dropDuplicates()\n",
    "    \n",
    "    # write time table to parquet files partitioned by year and month\n",
    "time_table.write.mode('overwrite').partitionBy(['year','month']).parquet(\"s3://ganpati-hanuman/output/time.parquet\")    \n",
    "print('File time.parquet created')\n",
    "\n",
    "    # read in song data to use for songplays table\n",
    "song_data = \"s3://ganpati-hanuman/song_data/*/*/*/*.json\"\n",
    "songs_df = spark.read.json(song_data)\n",
    "    # created song view to write SQL Queries\n",
    "songs_df.createOrReplaceTempView(\"songs_table\")\n",
    "\n",
    "         \n",
    "     # created log view to write SQL Queries\n",
    "log_data = \"s3://ganpati-hanuman/log_data/*.json\"\n",
    "log_df = spark.read.json(log_data)     \n",
    "log_df.createOrReplaceTempView(\"logs_table\")\n",
    "    \n",
    "    # extract columns from joined song and log datasets to create songplays table \n",
    "songplays_table = spark.sql(\"\"\" select monotonically_increasing_id() as songplay_id, \n",
    "    timestamp(l.ts/1000) as start_time, \n",
    "    month(to_timestamp(l.ts/1000)) as month, \n",
    "    year(to_timestamp(l.ts/1000)) as year, \n",
    "    l.userId as user_id, l.level as level, \n",
    "    s.song_id as song_id, s.artist_id as artist_id, \n",
    "    l.sessionId as session_id, l.location as location, \n",
    "    l.userAgent as user_agent FROM \n",
    "    logs_table l JOIN songs_table s on l.artist = s.artist_name and l.song = s.title \"\"\")\n",
    "    \n",
    "\n",
    "    # write songplays table to parquet files partitioned by year and month\n",
    "songplays_table.write.mode('overwrite').partitionBy(\"year\", \"month\").parquet(\"s3://ganpati-hanuman/output/songplays_table.parquet\")\n",
    "print('File songplays_table.parquet created')\n"
   ]
  },
  {
   "cell_type": "code",
   "execution_count": null,
   "metadata": {
    "editable": true
   },
   "outputs": [],
   "source": []
  }
 ],
 "metadata": {
  "kernelspec": {
   "display_name": "Python 3",
   "language": "python",
   "name": "python3"
  },
  "language_info": {
   "codemirror_mode": {
    "name": "ipython",
    "version": 3
   },
   "file_extension": ".py",
   "mimetype": "text/x-python",
   "name": "python",
   "nbconvert_exporter": "python",
   "pygments_lexer": "ipython3",
   "version": "3.6.3"
  }
 },
 "nbformat": 4,
 "nbformat_minor": 4
}
